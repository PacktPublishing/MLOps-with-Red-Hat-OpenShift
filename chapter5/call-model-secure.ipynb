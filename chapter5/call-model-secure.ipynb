{
 "cells": [
  {
   "cell_type": "markdown",
   "id": "5d0f0212-4f17-4a3c-8ff3-ca0ba76a7ecf",
   "metadata": {},
   "source": [
    "# call the wine model without providing the token."
   ]
  },
  {
   "cell_type": "code",
   "execution_count": 1,
   "id": "a2331615-b404-4c52-bb23-b5410f720a85",
   "metadata": {},
   "outputs": [
    {
     "name": "stdout",
     "output_type": "stream",
     "text": [
      "<Response [403]>\n"
     ]
    }
   ],
   "source": [
    "import requests\n",
    "import pandas as pd\n",
    "from urllib3.exceptions import InsecureRequestWarning\n",
    "\n",
    "data = {'volatile acidity':  [0.17],\n",
    "        'residual sugar': [1.5],\n",
    "        'chlorides':  [0.032],\n",
    "        'total sulfur dioxide': [112.0],\n",
    "        'sulphates': [0.55],\n",
    "        'alcohol': [11.4]        \n",
    "        }\n",
    "\n",
    "wine_0 = pd.DataFrame(data)\n",
    "\n",
    "inference_request = {\n",
    "    \"inputs\": [\n",
    "        {\n",
    "          \"name\": \"predict\",\n",
    "          \"shape\": wine_0.shape,\n",
    "          \"datatype\": \"FP32\",\n",
    "          \"data\": wine_0.loc[:].values.tolist()\n",
    "        }\n",
    "    ]\n",
    "}\n",
    "\n",
    "# Disable SSL Certificate warnings\n",
    "requests.packages.urllib3.disable_warnings(category=InsecureRequestWarning)\n",
    "\n",
    "# NOTE: This URL depends on the URL of your OpenShift cluster\n",
    "endpoint = \"https://wine-wines.apps.fmflask2.faisallabs.net/v2/models/wine/infer\"\n",
    "response = requests.post(endpoint, json=inference_request, verify=False)\n",
    "print(response)"
   ]
  },
  {
   "cell_type": "markdown",
   "id": "7275ddf1-cfc1-4476-a7f3-366e969a02c2",
   "metadata": {},
   "source": [
    "# call the wine model with the token from the Red Hat Data Science Model server token."
   ]
  },
  {
   "cell_type": "code",
   "execution_count": 2,
   "id": "eb75e447-1e79-4b0d-998f-2639e430a813",
   "metadata": {},
   "outputs": [
    {
     "name": "stdout",
     "output_type": "stream",
     "text": [
      "<Response [200]>\n"
     ]
    },
    {
     "data": {
      "text/plain": [
       "{'model_name': 'wine__isvc-12fe7f5899',\n",
       " 'outputs': [{'name': 'predict',\n",
       "   'datatype': 'FP64',\n",
       "   'shape': [1],\n",
       "   'data': [6.33739727780333]}]}"
      ]
     },
     "execution_count": 2,
     "metadata": {},
     "output_type": "execute_result"
    }
   ],
   "source": [
    "import requests\n",
    "import pandas as pd\n",
    "\n",
    "data = {'volatile acidity':  [0.17],\n",
    "        'residual sugar': [1.5],\n",
    "        'chlorides':  [0.032],\n",
    "        'total sulfur dioxide': [112.0],\n",
    "        'sulphates': [0.55],\n",
    "        'alcohol': [11.4]        \n",
    "        }\n",
    "\n",
    "wine_0 = pd.DataFrame(data)\n",
    "\n",
    "inference_request = {\n",
    "    \"inputs\": [\n",
    "        {\n",
    "          \"name\": \"predict\",\n",
    "          \"shape\": wine_0.shape,\n",
    "          \"datatype\": \"FP32\",\n",
    "          \"data\": wine_0.loc[:].values.tolist()\n",
    "        }\n",
    "    ]\n",
    "}\n",
    "\n",
    "endpoint = \"https://wine-wines.apps.fmflask2.faisallabs.net/v2/models/wine/infer\"\n",
    "token= 'YOUR TOKEN HERE'\n",
    "response = requests.post(endpoint, json=inference_request, verify=False, \n",
    "                         headers={'Authorization': 'Bearer ' + token})\n",
    "\n",
    "print(response)\n",
    "response.json()"
   ]
  },
  {
   "cell_type": "code",
   "execution_count": null,
   "id": "700c6a40-3bf6-4371-bfcc-b1f8b49170fe",
   "metadata": {},
   "outputs": [],
   "source": []
  }
 ],
 "metadata": {
  "kernelspec": {
   "display_name": "Python 3.9.16",
   "language": "python",
   "name": "python3"
  },
  "language_info": {
   "codemirror_mode": {
    "name": "ipython",
    "version": 3
   },
   "file_extension": ".py",
   "mimetype": "text/x-python",
   "name": "python",
   "nbconvert_exporter": "python",
   "pygments_lexer": "ipython3",
   "version": "3.9.16"
  }
 },
 "nbformat": 4,
 "nbformat_minor": 5
}
