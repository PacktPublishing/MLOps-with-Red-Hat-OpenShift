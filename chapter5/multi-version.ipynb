{
 "cells": [
  {
   "cell_type": "code",
   "execution_count": null,
   "id": "ca6bb199-3728-4ddc-83e0-a7749687386b",
   "metadata": {},
   "outputs": [],
   "source": [
    "!pip install python-pachyderm"
   ]
  },
  {
   "cell_type": "code",
   "execution_count": 5,
   "id": "8ec0c15e-1dd6-40cf-af7e-f27dffc35725",
   "metadata": {},
   "outputs": [],
   "source": [
    "import python_pachyderm as pc"
   ]
  },
  {
   "cell_type": "code",
   "execution_count": 6,
   "id": "1afa79c9-97fd-4f8b-8510-1ce689b6274f",
   "metadata": {},
   "outputs": [],
   "source": [
    "client = pc.Client(host=\"pachd.pachyderm.svc.cluster.local\")"
   ]
  },
  {
   "cell_type": "code",
   "execution_count": 11,
   "id": "0b9b8ca8-293a-4909-bed2-e86fc47003ce",
   "metadata": {},
   "outputs": [],
   "source": [
    "client.delete_repo(\"multiple_version\")\n",
    "client.create_repo(\"multiple_version\")"
   ]
  },
  {
   "cell_type": "code",
   "execution_count": 12,
   "id": "400b1415-e9d3-465a-aabb-f5e348bfb327",
   "metadata": {},
   "outputs": [
    {
     "name": "stdout",
     "output_type": "stream",
     "text": [
      "afc51c1953314b30a2ac4d123302e8fd\n"
     ]
    }
   ],
   "source": [
    "first_commit_id = \"\"\n",
    "with client.commit(\"multiple_version\", \"master\", description=\"commit message\") as commit:\n",
    "    client.put_file_bytes(commit, \"/dir_a/data.txt\", b\"DATA\")\n",
    "    print(commit.id)\n",
    "    first_commit_id = commit.id"
   ]
  },
  {
   "cell_type": "code",
   "execution_count": 13,
   "id": "f43ff10e-1812-463b-881b-708d4dd6c5c7",
   "metadata": {},
   "outputs": [
    {
     "name": "stdout",
     "output_type": "stream",
     "text": [
      "7880596ce54b4f29a78f2f689cacf5d3\n"
     ]
    }
   ],
   "source": [
    "with client.commit(\"multiple_version\", \"master\") as commit:\n",
    "    client.put_file_bytes(commit, \"/dir_a/data.txt\", b\"DATAV2\")\n",
    "    print(commit.id)"
   ]
  },
  {
   "cell_type": "code",
   "execution_count": 14,
   "id": "14196bf2-7625-4450-944c-d01131fc0b5b",
   "metadata": {},
   "outputs": [
    {
     "name": "stdout",
     "output_type": "stream",
     "text": [
      "b'DATAV2'\n"
     ]
    }
   ],
   "source": [
    "f = client.get_file((\"multiple_version\", \"master\"), \"/dir_a/data.txt\")\n",
    "print(f.read()) "
   ]
  },
  {
   "cell_type": "code",
   "execution_count": 15,
   "id": "40589998-ff15-42f2-a1a4-27b7c28d1e4d",
   "metadata": {},
   "outputs": [
    {
     "name": "stdout",
     "output_type": "stream",
     "text": [
      "b'DATA'\n"
     ]
    }
   ],
   "source": [
    "f = client.get_file((\"multiple_version\", \"master\", first_commit_id), \"/dir_a/data.txt\")\n",
    "print(f.read())"
   ]
  },
  {
   "cell_type": "code",
   "execution_count": 17,
   "id": "1e43d0cd-1f5f-4f63-80be-5a038ad24ee7",
   "metadata": {},
   "outputs": [
    {
     "name": "stdout",
     "output_type": "stream",
     "text": [
      "7272891e7db34084863eccb793e90162\n"
     ]
    }
   ],
   "source": [
    "with client.commit(\"multiple_version\", \"master\") as commit:\n",
    "    client.put_file_url(commit, 'wine.csv', 'http://minio-ml-workshop.minio.svc.cluster.local:9000/raw-data/wine.csv')\n",
    "    print(commit.id)    "
   ]
  },
  {
   "cell_type": "code",
   "execution_count": null,
   "id": "2493d685-7c8a-4acc-9f82-7f60d1c8a336",
   "metadata": {},
   "outputs": [],
   "source": []
  }
 ],
 "metadata": {
  "kernelspec": {
   "display_name": "Python 3.9.16",
   "language": "python",
   "name": "python3"
  },
  "language_info": {
   "codemirror_mode": {
    "name": "ipython",
    "version": 3
   },
   "file_extension": ".py",
   "mimetype": "text/x-python",
   "name": "python",
   "nbconvert_exporter": "python",
   "pygments_lexer": "ipython3",
   "version": "3.9.16"
  }
 },
 "nbformat": 4,
 "nbformat_minor": 5
}
