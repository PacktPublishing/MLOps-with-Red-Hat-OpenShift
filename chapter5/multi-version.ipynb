{
 "cells": [
  {
   "cell_type": "code",
   "execution_count": 1,
   "id": "ca6bb199-3728-4ddc-83e0-a7749687386b",
   "metadata": {},
   "outputs": [
    {
     "name": "stdout",
     "output_type": "stream",
     "text": [
      "Collecting python-pachyderm\n",
      "  Downloading python_pachyderm-7.5.0-py3-none-any.whl (152 kB)\n",
      "\u001b[2K     \u001b[90m━━━━━━━━━━━━━━━━━━━━━━━━━━━━━━━━━━━━━━━\u001b[0m \u001b[32m152.4/152.4 kB\u001b[0m \u001b[31m1.6 MB/s\u001b[0m eta \u001b[36m0:00:00\u001b[0ma \u001b[36m0:00:01\u001b[0m\n",
      "\u001b[?25hCollecting grpc-interceptor<0.14.0,>=0.13.0 (from python-pachyderm)\n",
      "  Downloading grpc_interceptor-0.13.2-py3-none-any.whl (17 kB)\n",
      "Collecting grpcio>=1.54.2 (from python-pachyderm)\n",
      "  Downloading grpcio-1.56.0-cp39-cp39-manylinux_2_17_x86_64.manylinux2014_x86_64.whl (5.2 MB)\n",
      "\u001b[2K     \u001b[90m━━━━━━━━━━━━━━━━━━━━━━━━━━━━━━━━━━━━━━━━\u001b[0m \u001b[32m5.2/5.2 MB\u001b[0m \u001b[31m11.7 MB/s\u001b[0m eta \u001b[36m0:00:00\u001b[0m00:01\u001b[0m00:01\u001b[0m\n",
      "\u001b[?25hCollecting grpcio-health-checking>=1.38.0 (from python-pachyderm)\n",
      "  Downloading grpcio_health_checking-1.56.0-py3-none-any.whl (8.5 kB)\n",
      "Requirement already satisfied: protobuf<4.0.0,>=3.17.1 in /opt/app-root/lib/python3.9/site-packages (from python-pachyderm) (3.20.3)\n",
      "Collecting python-dotenv>=1.0.0 (from python-pachyderm)\n",
      "  Downloading python_dotenv-1.0.0-py3-none-any.whl (19 kB)\n",
      "INFO: pip is looking at multiple versions of grpcio-health-checking to determine which version is compatible with other requirements. This could take a while.\n",
      "Collecting grpcio-health-checking>=1.38.0 (from python-pachyderm)\n",
      "  Downloading grpcio_health_checking-1.54.2-py3-none-any.whl (8.5 kB)\n",
      "  Downloading grpcio_health_checking-1.54.0-py3-none-any.whl (8.5 kB)\n",
      "  Downloading grpcio_health_checking-1.53.1-py3-none-any.whl (8.5 kB)\n",
      "  Downloading grpcio_health_checking-1.53.0-py3-none-any.whl (8.5 kB)\n",
      "  Downloading grpcio_health_checking-1.51.3-py3-none-any.whl (8.5 kB)\n",
      "  Downloading grpcio_health_checking-1.51.1-py3-none-any.whl (8.5 kB)\n",
      "  Downloading grpcio_health_checking-1.50.0-py3-none-any.whl (17 kB)\n",
      "INFO: pip is looking at multiple versions of grpcio-health-checking to determine which version is compatible with other requirements. This could take a while.\n",
      "  Downloading grpcio_health_checking-1.49.1-py3-none-any.whl (17 kB)\n",
      "  Downloading grpcio_health_checking-1.48.2-py3-none-any.whl (18 kB)\n",
      "Installing collected packages: python-dotenv, grpcio, grpcio-health-checking, grpc-interceptor, python-pachyderm\n",
      "Successfully installed grpc-interceptor-0.13.2 grpcio-1.56.0 grpcio-health-checking-1.48.2 python-dotenv-1.0.0 python-pachyderm-7.5.0\n",
      "\n",
      "\u001b[1m[\u001b[0m\u001b[34;49mnotice\u001b[0m\u001b[1;39;49m]\u001b[0m\u001b[39;49m A new release of pip is available: \u001b[0m\u001b[31;49m23.1.2\u001b[0m\u001b[39;49m -> \u001b[0m\u001b[32;49m23.2\u001b[0m\n",
      "\u001b[1m[\u001b[0m\u001b[34;49mnotice\u001b[0m\u001b[1;39;49m]\u001b[0m\u001b[39;49m To update, run: \u001b[0m\u001b[32;49mpip install --upgrade pip\u001b[0m\n"
     ]
    }
   ],
   "source": [
    "!pip install python-pachyderm"
   ]
  },
  {
   "cell_type": "code",
   "execution_count": 2,
   "id": "8ec0c15e-1dd6-40cf-af7e-f27dffc35725",
   "metadata": {},
   "outputs": [],
   "source": [
    "import python_pachyderm as pc"
   ]
  },
  {
   "cell_type": "code",
   "execution_count": 3,
   "id": "1afa79c9-97fd-4f8b-8510-1ce689b6274f",
   "metadata": {},
   "outputs": [],
   "source": [
    "client = pc.Client(host=\"pachd.pachyderm.svc.cluster.local\")"
   ]
  },
  {
   "cell_type": "code",
   "execution_count": 4,
   "id": "0b9b8ca8-293a-4909-bed2-e86fc47003ce",
   "metadata": {},
   "outputs": [],
   "source": [
    "#client.delete_repo(\"multiple_version\")\n",
    "client.create_repo(\"multiple_version\")"
   ]
  },
  {
   "cell_type": "code",
   "execution_count": 5,
   "id": "400b1415-e9d3-465a-aabb-f5e348bfb327",
   "metadata": {},
   "outputs": [
    {
     "name": "stdout",
     "output_type": "stream",
     "text": [
      "4a05588ad9d444c3b3a1af763bfc40be\n"
     ]
    }
   ],
   "source": [
    "first_commit_id = \"\"\n",
    "with client.commit(\"multiple_version\", \"master\", description=\"commit message\") as commit:\n",
    "    client.put_file_bytes(commit, \"/dir_a/data.txt\", b\"DATA\")\n",
    "    print(commit.id)\n",
    "    first_commit_id = commit.id"
   ]
  },
  {
   "cell_type": "code",
   "execution_count": 6,
   "id": "f43ff10e-1812-463b-881b-708d4dd6c5c7",
   "metadata": {},
   "outputs": [
    {
     "name": "stdout",
     "output_type": "stream",
     "text": [
      "1fbeaa9cac76435a9202f35d0594820d\n"
     ]
    }
   ],
   "source": [
    "with client.commit(\"multiple_version\", \"master\") as commit:\n",
    "    client.put_file_bytes(commit, \"/dir_a/data.txt\", b\"DATAV2\")\n",
    "    print(commit.id)"
   ]
  },
  {
   "cell_type": "code",
   "execution_count": 7,
   "id": "14196bf2-7625-4450-944c-d01131fc0b5b",
   "metadata": {},
   "outputs": [
    {
     "name": "stdout",
     "output_type": "stream",
     "text": [
      "b'DATAV2'\n"
     ]
    }
   ],
   "source": [
    "f = client.get_file((\"multiple_version\", \"master\"), \"/dir_a/data.txt\")\n",
    "print(f.read()) "
   ]
  },
  {
   "cell_type": "code",
   "execution_count": 8,
   "id": "40589998-ff15-42f2-a1a4-27b7c28d1e4d",
   "metadata": {},
   "outputs": [
    {
     "name": "stdout",
     "output_type": "stream",
     "text": [
      "b'DATA'\n"
     ]
    }
   ],
   "source": [
    "f = client.get_file((\"multiple_version\", \"master\", first_commit_id), \"/dir_a/data.txt\")\n",
    "print(f.read())"
   ]
  },
  {
   "cell_type": "code",
   "execution_count": 16,
   "id": "1e43d0cd-1f5f-4f63-80be-5a038ad24ee7",
   "metadata": {},
   "outputs": [
    {
     "name": "stdout",
     "output_type": "stream",
     "text": [
      "42e458f897a547d799c8d8b9a32299cf\n"
     ]
    }
   ],
   "source": [
    "with client.commit(\"multiple_version\", \"master\") as commit:\n",
    "    client.put_file_url(commit, 'wine.csv', 'http://minio-ml-workshop.ml-workshop.svc.cluster.local:9000/raw-data/wine.csv')\n",
    "    print(commit.id)    "
   ]
  },
  {
   "cell_type": "code",
   "execution_count": null,
   "id": "2493d685-7c8a-4acc-9f82-7f60d1c8a336",
   "metadata": {},
   "outputs": [],
   "source": []
  }
 ],
 "metadata": {
  "kernelspec": {
   "display_name": "Python 3.9.16",
   "language": "python",
   "name": "python3"
  },
  "language_info": {
   "codemirror_mode": {
    "name": "ipython",
    "version": 3
   },
   "file_extension": ".py",
   "mimetype": "text/x-python",
   "name": "python",
   "nbconvert_exporter": "python",
   "pygments_lexer": "ipython3",
   "version": "3.9.16"
  }
 },
 "nbformat": 4,
 "nbformat_minor": 5
}
