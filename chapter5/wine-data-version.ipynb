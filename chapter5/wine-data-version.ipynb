{
 "cells": [
  {
   "cell_type": "code",
   "execution_count": 1,
   "id": "3d0caa8e-1cf6-4d60-8a80-b23247e186ed",
   "metadata": {},
   "outputs": [
    {
     "name": "stdout",
     "output_type": "stream",
     "text": [
      "Requirement already satisfied: python-pachyderm in /opt/app-root/lib/python3.9/site-packages (7.5.0)\n",
      "Requirement already satisfied: grpc-interceptor<0.14.0,>=0.13.0 in /opt/app-root/lib/python3.9/site-packages (from python-pachyderm) (0.13.2)\n",
      "Requirement already satisfied: grpcio>=1.54.2 in /opt/app-root/lib/python3.9/site-packages (from python-pachyderm) (1.56.0)\n",
      "Requirement already satisfied: grpcio-health-checking>=1.38.0 in /opt/app-root/lib/python3.9/site-packages (from python-pachyderm) (1.48.2)\n",
      "Requirement already satisfied: protobuf<4.0.0,>=3.17.1 in /opt/app-root/lib/python3.9/site-packages (from python-pachyderm) (3.20.3)\n",
      "Requirement already satisfied: python-dotenv>=1.0.0 in /opt/app-root/lib/python3.9/site-packages (from python-pachyderm) (1.0.0)\n",
      "\n",
      "\u001b[1m[\u001b[0m\u001b[34;49mnotice\u001b[0m\u001b[1;39;49m]\u001b[0m\u001b[39;49m A new release of pip is available: \u001b[0m\u001b[31;49m23.1.2\u001b[0m\u001b[39;49m -> \u001b[0m\u001b[32;49m23.2\u001b[0m\n",
      "\u001b[1m[\u001b[0m\u001b[34;49mnotice\u001b[0m\u001b[1;39;49m]\u001b[0m\u001b[39;49m To update, run: \u001b[0m\u001b[32;49mpip install --upgrade pip\u001b[0m\n"
     ]
    }
   ],
   "source": [
    "!pip install python-pachyderm"
   ]
  },
  {
   "cell_type": "code",
   "execution_count": 5,
   "id": "771ef19d-4b1d-4b14-910f-e31b50628810",
   "metadata": {},
   "outputs": [
    {
     "name": "stdout",
     "output_type": "stream",
     "text": [
      "ecb90d3495694a92a2c70ffebb7844d2\n"
     ]
    }
   ],
   "source": [
    "# run this once to version your data into pachyderm\n",
    "import python_pachyderm as pc\n",
    "client = pc.Client(host=\"pachd.pachyderm.svc.cluster.local\")\n",
    "# comment out the following line of the repo already exists\n",
    "client.create_repo(\"wines\")\n",
    "with client.commit(\"wines\", \"master\") as commit:\n",
    "    client.put_file_url(commit, 'wine.csv', 'http://minio-ml-workshop.ml-workshop.svc.cluster.local:9000/raw-data/wine.csv')\n",
    "    print(commit.id)"
   ]
  },
  {
   "cell_type": "code",
   "execution_count": null,
   "id": "46786ce6-91ba-4f2e-9f5f-438f0d1e6d29",
   "metadata": {},
   "outputs": [],
   "source": []
  }
 ],
 "metadata": {
  "kernelspec": {
   "display_name": "Python 3.9.16",
   "language": "python",
   "name": "python3"
  },
  "language_info": {
   "codemirror_mode": {
    "name": "ipython",
    "version": 3
   },
   "file_extension": ".py",
   "mimetype": "text/x-python",
   "name": "python",
   "nbconvert_exporter": "python",
   "pygments_lexer": "ipython3",
   "version": "3.9.16"
  }
 },
 "nbformat": 4,
 "nbformat_minor": 5
}
