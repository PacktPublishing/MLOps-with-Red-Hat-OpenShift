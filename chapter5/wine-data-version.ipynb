{
 "cells": [
  {
   "cell_type": "code",
   "execution_count": null,
   "id": "3d0caa8e-1cf6-4d60-8a80-b23247e186ed",
   "metadata": {},
   "outputs": [],
   "source": [
    "!pip install python-pachyderm"
   ]
  },
  {
   "cell_type": "code",
   "execution_count": null,
   "id": "771ef19d-4b1d-4b14-910f-e31b50628810",
   "metadata": {},
   "outputs": [],
   "source": [
    "# run this once to version your data into pachyderm\n",
    "import python_pachyderm as pc\n",
    "client = pc.Client(host=\"pachd.pachyderm.svc.cluster.local\")\n",
    "client.create_repo(\"wines\")\n",
    "with client.commit(\"wines\", \"master\") as commit:\n",
    "    client.put_file_url(commit, 'wine.csv', 'http://minio-ml-workshop.minio.svc.cluster.local:9000/raw-data/wine.csv')\n",
    "    print(commit.id)  "
   ]
  }
 ],
 "metadata": {
  "kernelspec": {
   "display_name": "Python 3.9.16",
   "language": "python",
   "name": "python3"
  },
  "language_info": {
   "codemirror_mode": {
    "name": "ipython",
    "version": 3
   },
   "file_extension": ".py",
   "mimetype": "text/x-python",
   "name": "python",
   "nbconvert_exporter": "python",
   "pygments_lexer": "ipython3",
   "version": "3.9.16"
  }
 },
 "nbformat": 4,
 "nbformat_minor": 5
}
