{
 "cells": [
  {
   "cell_type": "code",
   "execution_count": 4,
   "id": "a2331615-b404-4c52-bb23-b5410f720a85",
   "metadata": {},
   "outputs": [
    {
     "name": "stderr",
     "output_type": "stream",
     "text": [
      "/opt/app-root/lib64/python3.9/site-packages/urllib3/connectionpool.py:1056: InsecureRequestWarning: Unverified HTTPS request is being made to host 'wine-wines.apps.fmflask2.faisallabs.net'. Adding certificate verification is strongly advised. See: https://urllib3.readthedocs.io/en/1.26.x/advanced-usage.html#ssl-warnings\n",
      "  warnings.warn(\n"
     ]
    },
    {
     "data": {
      "text/plain": [
       "{'model_name': 'wine__isvc-12fe7f5899',\n",
       " 'outputs': [{'name': 'predict',\n",
       "   'datatype': 'FP64',\n",
       "   'shape': [1],\n",
       "   'data': [6.324527141615349]}]}"
      ]
     },
     "execution_count": 4,
     "metadata": {},
     "output_type": "execute_result"
    }
   ],
   "source": [
    "import requests\n",
    "import pandas as pd\n",
    "\n",
    "data = {'volatile acidity':  [0.17],\n",
    "        'residual sugar': [1.5],\n",
    "        'chlorides':  [0.032],\n",
    "        'total sulfur dioxide': [112.0],\n",
    "        'sulphates': [0.55],\n",
    "        'alcohol': [11.4]        \n",
    "        }\n",
    "\n",
    "wine_0 = pd.DataFrame(data)\n",
    "\n",
    "inference_request = {\n",
    "    \"inputs\": [\n",
    "        {\n",
    "          \"name\": \"predict\",\n",
    "          \"shape\": wine_0.shape,\n",
    "          \"datatype\": \"FP32\",\n",
    "          \"data\": wine_0.loc[:].values.tolist()\n",
    "        }\n",
    "    ]\n",
    "}\n",
    "\n",
    "endpoint = \"https://wine-wines.apps.fmflask2.faisallabs.net/v2/models/wine/infer\"\n",
    "response = requests.post(endpoint, json=inference_request, verify=False)\n",
    "\n",
    "response.json()"
   ]
  },
  {
   "cell_type": "code",
   "execution_count": null,
   "id": "8f87eae3-e1e6-42aa-9fc9-ccbd450ee053",
   "metadata": {},
   "outputs": [],
   "source": [
    "volatile acidity \tresidual sugar \tchlorides \ttotal sulfur dioxide \tsulphates \talcohol\n",
    "15 \t0.17 \t1.5 \t0.032 \t112.0 \t0.55 \t11.4"
   ]
  }
 ],
 "metadata": {
  "kernelspec": {
   "display_name": "Python 3.9.16",
   "language": "python",
   "name": "python3"
  },
  "language_info": {
   "codemirror_mode": {
    "name": "ipython",
    "version": 3
   },
   "file_extension": ".py",
   "mimetype": "text/x-python",
   "name": "python",
   "nbconvert_exporter": "python",
   "pygments_lexer": "ipython3",
   "version": "3.9.16"
  }
 },
 "nbformat": 4,
 "nbformat_minor": 5
}
