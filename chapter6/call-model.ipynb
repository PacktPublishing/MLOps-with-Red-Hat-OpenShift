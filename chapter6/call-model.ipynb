{
 "cells": [
  {
   "cell_type": "code",
   "execution_count": 7,
   "id": "a2331615-b404-4c52-bb23-b5410f720a85",
   "metadata": {},
   "outputs": [
    {
     "data": {
      "text/plain": [
       "{'model_name': 'wine__isvc-12fe7f5899',\n",
       " 'outputs': [{'name': 'predict',\n",
       "   'datatype': 'FP64',\n",
       "   'shape': [1],\n",
       "   'data': [6.324527141615349]}]}"
      ]
     },
     "execution_count": 7,
     "metadata": {},
     "output_type": "execute_result"
    }
   ],
   "source": [
    "import requests\n",
    "import pandas as pd\n",
    "from urllib3.exceptions import InsecureRequestWarning\n",
    "\n",
    "data = {'volatile acidity':  [0.17],\n",
    "        'residual sugar': [1.5],\n",
    "        'chlorides':  [0.032],\n",
    "        'total sulfur dioxide': [112.0],\n",
    "        'sulphates': [0.55],\n",
    "        'alcohol': [11.4]        \n",
    "        }\n",
    "\n",
    "wine_0 = pd.DataFrame(data)\n",
    "\n",
    "inference_request = {\n",
    "    \"inputs\": [\n",
    "        {\n",
    "          \"name\": \"predict\",\n",
    "          \"shape\": wine_0.shape,\n",
    "          \"datatype\": \"FP32\",\n",
    "          \"data\": wine_0.loc[:].values.tolist()\n",
    "        }\n",
    "    ]\n",
    "}\n",
    "\n",
    "# Disable SSL Certificate warnings\n",
    "requests.packages.urllib3.disable_warnings(category=InsecureRequestWarning)\n",
    "\n",
    "# NOTE: This URL depends on the URL of your OpenShift cluster\n",
    "endpoint = \"https://wine-wines.apps.fmflask2.faisallabs.net/v2/models/wine/infer\"\n",
    "\n",
    "response = requests.post(endpoint, json=inference_request, verify=False)\n",
    "\n",
    "response.json()"
   ]
  },
  {
   "cell_type": "code",
   "execution_count": null,
   "id": "eb75e447-1e79-4b0d-998f-2639e430a813",
   "metadata": {},
   "outputs": [],
   "source": []
  }
 ],
 "metadata": {
  "kernelspec": {
   "display_name": "Python 3.9.16",
   "language": "python",
   "name": "python3"
  },
  "language_info": {
   "codemirror_mode": {
    "name": "ipython",
    "version": 3
   },
   "file_extension": ".py",
   "mimetype": "text/x-python",
   "name": "python",
   "nbconvert_exporter": "python",
   "pygments_lexer": "ipython3",
   "version": "3.9.16"
  }
 },
 "nbformat": 4,
 "nbformat_minor": 5
}
