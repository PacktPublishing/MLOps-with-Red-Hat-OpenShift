{
 "cells": [
  {
   "cell_type": "code",
   "execution_count": null,
   "id": "696a476d-c150-423b-8860-d901972fa1e1",
   "metadata": {},
   "outputs": [],
   "source": [
    "!pip install boto3"
   ]
  },
  {
   "cell_type": "code",
   "execution_count": null,
   "id": "108d3999-ac26-43a1-a451-ad17f165ebd3",
   "metadata": {},
   "outputs": [],
   "source": [
    "import boto3, os\n",
    "from datetime import datetime\n",
    "\n",
    "# Set up the S3 client\n",
    "s3 = boto3.client('s3',\n",
    "                  endpoint_url='http://minio-ml-workshop.minio.svc.cluster.local:9000',\n",
    "                  aws_access_key_id='minio',\n",
    "                  aws_secret_access_key=os.getenv(\"MODEL_REGISTRY_PASSWORD\"))\n",
    "\n",
    "# Upload a file to the bucket\n",
    "model_version = datetime.now().strftime(\"%y.%m.%d-%H%M%S\")\n",
    "bucket_name = 'wine-models'\n",
    "object_name = 'model-' + model_version +'/model.joblib'\n",
    "file_path = 'model.joblib'\n",
    "\n",
    "# upload the model to the registry\n",
    "s3.upload_file(file_path, bucket_name, object_name)\n",
    "\n",
    "# store the model version in a file temporarily for the next pipeline job\n",
    "with open(\"vars.txt\", \"w\") as text_file:\n",
    "    text_file.write('model_version='+model_version)"
   ]
  }
 ],
 "metadata": {
  "kernelspec": {
   "display_name": "Python 3.9",
   "language": "python",
   "name": "python3"
  },
  "language_info": {
   "codemirror_mode": {
    "name": "ipython",
    "version": 3
   },
   "file_extension": ".py",
   "mimetype": "text/x-python",
   "name": "python",
   "nbconvert_exporter": "python",
   "pygments_lexer": "ipython3",
   "version": "3.9.16"
  }
 },
 "nbformat": 4,
 "nbformat_minor": 5
}
