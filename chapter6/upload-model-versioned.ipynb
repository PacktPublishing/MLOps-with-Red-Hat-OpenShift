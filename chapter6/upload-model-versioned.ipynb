{
 "cells": [
  {
   "cell_type": "code",
   "execution_count": 1,
   "id": "696a476d-c150-423b-8860-d901972fa1e1",
   "metadata": {},
   "outputs": [
    {
     "name": "stdout",
     "output_type": "stream",
     "text": [
      "Requirement already satisfied: boto3 in /opt/app-root/lib/python3.9/site-packages (1.26.152)\n",
      "Requirement already satisfied: botocore<1.30.0,>=1.29.152 in /opt/app-root/lib/python3.9/site-packages (from boto3) (1.29.152)\n",
      "Requirement already satisfied: jmespath<2.0.0,>=0.7.1 in /opt/app-root/lib/python3.9/site-packages (from boto3) (1.0.1)\n",
      "Requirement already satisfied: s3transfer<0.7.0,>=0.6.0 in /opt/app-root/lib/python3.9/site-packages (from boto3) (0.6.1)\n",
      "Requirement already satisfied: python-dateutil<3.0.0,>=2.1 in /opt/app-root/lib/python3.9/site-packages (from botocore<1.30.0,>=1.29.152->boto3) (2.8.2)\n",
      "Requirement already satisfied: urllib3<1.27,>=1.25.4 in /opt/app-root/lib/python3.9/site-packages (from botocore<1.30.0,>=1.29.152->boto3) (1.26.16)\n",
      "Requirement already satisfied: six>=1.5 in /opt/app-root/lib/python3.9/site-packages (from python-dateutil<3.0.0,>=2.1->botocore<1.30.0,>=1.29.152->boto3) (1.16.0)\n",
      "\n",
      "\u001b[1m[\u001b[0m\u001b[34;49mnotice\u001b[0m\u001b[1;39;49m]\u001b[0m\u001b[39;49m A new release of pip is available: \u001b[0m\u001b[31;49m23.1.2\u001b[0m\u001b[39;49m -> \u001b[0m\u001b[32;49m23.2.1\u001b[0m\n",
      "\u001b[1m[\u001b[0m\u001b[34;49mnotice\u001b[0m\u001b[1;39;49m]\u001b[0m\u001b[39;49m To update, run: \u001b[0m\u001b[32;49mpip install --upgrade pip\u001b[0m\n"
     ]
    }
   ],
   "source": [
    "!pip install boto3"
   ]
  },
  {
   "cell_type": "code",
   "execution_count": 3,
   "id": "108d3999-ac26-43a1-a451-ad17f165ebd3",
   "metadata": {},
   "outputs": [],
   "source": [
    "import boto3, os\n",
    "from datetime import datetime\n",
    "\n",
    "# Set up the S3 client\n",
    "s3 = boto3.client('s3',\n",
    "                  endpoint_url='http://minio-ml-workshop.minio.svc.cluster.local:9000',\n",
    "                  aws_access_key_id='minio',\n",
    "                  aws_secret_access_key=os.getenv(\"MODEL_REGISTRY_PASSWORD\"))\n",
    "\n",
    "# Upload a file to the bucket\n",
    "model_version = datetime.now().strftime(\"%y.%m.%d-%H%M%S\")\n",
    "bucket_name = 'wine-models'\n",
    "object_name = 'model-' + model_version +'/model.joblib'\n",
    "file_path = 'model.joblib'\n",
    "\n",
    "# upload the model to the registry\n",
    "s3.upload_file(file_path, bucket_name, object_name)\n",
    "\n",
    "# store the model version in a file temporarily for the next pipeline job\n",
    "with open(\"vars.txt\", \"w\") as text_file:\n",
    "    text_file.write('model_version='+model_version)"
   ]
  }
 ],
 "metadata": {
  "kernelspec": {
   "display_name": "Python 3.9.16",
   "language": "python",
   "name": "python3"
  },
  "language_info": {
   "codemirror_mode": {
    "name": "ipython",
    "version": 3
   },
   "file_extension": ".py",
   "mimetype": "text/x-python",
   "name": "python",
   "nbconvert_exporter": "python",
   "pygments_lexer": "ipython3",
   "version": "3.9.16"
  }
 },
 "nbformat": 4,
 "nbformat_minor": 5
}
