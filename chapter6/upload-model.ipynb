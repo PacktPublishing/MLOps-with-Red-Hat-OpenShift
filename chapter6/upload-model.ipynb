{
 "cells": [
  {
   "cell_type": "code",
   "execution_count": null,
   "id": "a606d10a",
   "metadata": {},
   "outputs": [],
   "source": [
    "!pip install boto3"
   ]
  },
  {
   "cell_type": "code",
   "execution_count": null,
   "id": "fd3c5415-7e75-4f51-aea1-fe1bbddaef78",
   "metadata": {},
   "outputs": [],
   "source": [
    "import boto3, os"
   ]
  },
  {
   "cell_type": "code",
   "execution_count": null,
   "id": "108d3999-ac26-43a1-a451-ad17f165ebd3",
   "metadata": {},
   "outputs": [],
   "source": [
    "# Set up the S3 client\n",
    "s3 = boto3.client('s3',\n",
    "                  endpoint_url='http://minio-ml-workshop.minio.svc.cluster.local:9000',\n",
    "                  aws_access_key_id='minio',\n",
    "                  aws_secret_access_key=os.getenv(\"MODEL_REGISTRY_PASSWORD\"))\n",
    "\n",
    "# Upload a file to the bucket\n",
    "bucket_name = 'wine-models'\n",
    "object_name = 'models/model.joblib'\n",
    "file_path = 'model.joblib'\n",
    "\n",
    "s3.upload_file(file_path, bucket_name, object_name)"
   ]
  },
  {
   "cell_type": "code",
   "execution_count": null,
   "id": "c404a95c-e81d-4663-9f1a-bbb8a19e8856",
   "metadata": {},
   "outputs": [],
   "source": []
  }
 ],
 "metadata": {
  "kernelspec": {
   "display_name": "Python 3.9",
   "language": "python",
   "name": "python3"
  },
  "language_info": {
   "codemirror_mode": {
    "name": "ipython",
    "version": 3
   },
   "file_extension": ".py",
   "mimetype": "text/x-python",
   "name": "python",
   "nbconvert_exporter": "python",
   "pygments_lexer": "ipython3",
   "version": "3.9.16"
  }
 },
 "nbformat": 4,
 "nbformat_minor": 5
}
