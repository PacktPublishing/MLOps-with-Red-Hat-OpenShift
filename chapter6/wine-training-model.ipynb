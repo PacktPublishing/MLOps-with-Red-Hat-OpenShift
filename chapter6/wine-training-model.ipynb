{
 "cells": [
  {
   "cell_type": "code",
   "execution_count": null,
   "id": "4fc75c02-df00-4849-af96-9bce30761a93",
   "metadata": {},
   "outputs": [],
   "source": [
    "!pip install python-pachyderm\n",
    "!pip install boto3"
   ]
  },
  {
   "cell_type": "code",
   "execution_count": 1,
   "id": "e0627df6-64a5-4ecb-88c2-80e58988c9ac",
   "metadata": {},
   "outputs": [],
   "source": [
    "commit_id = \"be82b14369c74ff7bbdf9866d6f701ee\""
   ]
  },
  {
   "cell_type": "code",
   "execution_count": 2,
   "id": "44a6a0c7-bade-4a62-ae70-74e2c384685d",
   "metadata": {},
   "outputs": [],
   "source": [
    "import python_pachyderm as pc\n",
    "client = pc.Client(host=\"pachd.pachyderm.svc.cluster.local\")\n"
   ]
  },
  {
   "cell_type": "code",
   "execution_count": 3,
   "id": "54d35f8c-8fdf-4196-9407-cf68f35493ca",
   "metadata": {},
   "outputs": [],
   "source": [
    "import pandas as pd\n",
    "wines = client.get_file((\"wines\", \"master\", commit_id), \"wine.csv\")\n",
    "wines_df = pd.read_csv(wines, delimiter=';')\n"
   ]
  },
  {
   "cell_type": "code",
   "execution_count": 4,
   "id": "410445b6-8d63-4d84-9526-b8ee57195c06",
   "metadata": {},
   "outputs": [
    {
     "name": "stdout",
     "output_type": "stream",
     "text": [
      "(3429, 12)\n"
     ]
    }
   ],
   "source": [
    "# Split data into training and test\n",
    "\n",
    "wine_train = wines_df.sample(frac=0.7)\n",
    "print(wine_train.shape)"
   ]
  },
  {
   "cell_type": "code",
   "execution_count": 5,
   "id": "3cb3b725-a117-4069-b8d1-4128aa9af5f7",
   "metadata": {},
   "outputs": [
    {
     "name": "stdout",
     "output_type": "stream",
     "text": [
      "(1056, 12)\n"
     ]
    }
   ],
   "source": [
    "wine_test = wines_df.loc[~wines_df.set_index(list(wines_df.columns)).index.isin(wine_train.set_index(list(wine_train.columns)).index)]\n",
    "print(wine_test.shape)"
   ]
  },
  {
   "cell_type": "code",
   "execution_count": 6,
   "id": "3624f4ec-7b9a-4d1d-8a01-baf61097c67d",
   "metadata": {},
   "outputs": [],
   "source": [
    "from sklearn.linear_model import LinearRegression\n",
    "features = ['volatile acidity', 'residual sugar', 'chlorides', 'total sulfur dioxide', 'sulphates', 'alcohol']\n",
    "wine_ln_reg = LinearRegression()\n",
    "wine_ln_reg = wine_ln_reg.fit(wine_train[features], wine_train['quality'])"
   ]
  },
  {
   "cell_type": "code",
   "execution_count": 7,
   "id": "f22ef61e-9224-4e62-9cef-6f0d6c9b951e",
   "metadata": {},
   "outputs": [
    {
     "name": "stderr",
     "output_type": "stream",
     "text": [
      "/opt/app-root/lib64/python3.9/site-packages/skl2onnx/algebra/onnx_ops.py:159: UserWarning: OpSchema.FormalParameter.typeStr is deprecated and will be removed in 1.16. Use OpSchema.FormalParameter.type_str instead.\n",
      "  tys = obj.typeStr or ''\n",
      "/opt/app-root/lib64/python3.9/site-packages/skl2onnx/algebra/automation.py:154: UserWarning: OpSchema.FormalParameter.isHomogeneous is deprecated and will be removed in 1.16. Use OpSchema.FormalParameter.is_homogeneous instead.\n",
      "  if getattr(obj, 'isHomogeneous', False):\n",
      "/opt/app-root/lib64/python3.9/site-packages/jinja2/environment.py:485: UserWarning: OpSchema.FormalParameter.typeStr is deprecated and will be removed in 1.16. Use OpSchema.FormalParameter.type_str instead.\n",
      "  return getattr(obj, attribute)\n"
     ]
    }
   ],
   "source": [
    "import boto3, pickle, os\n",
    "\n",
    "# Save the model to a file\n",
    "with open('model.joblib', 'wb') as f:\n",
    "    pickle.dump(wine_ln_reg, f)\n",
    "    \n"
   ]
  },
  {
   "cell_type": "code",
   "execution_count": null,
   "id": "404b663d-364b-4268-9cae-038cbded4942",
   "metadata": {},
   "outputs": [],
   "source": []
  }
 ],
 "metadata": {
  "kernelspec": {
   "display_name": "Python 3.9.16",
   "language": "python",
   "name": "python3"
  },
  "language_info": {
   "codemirror_mode": {
    "name": "ipython",
    "version": 3
   },
   "file_extension": ".py",
   "mimetype": "text/x-python",
   "name": "python",
   "nbconvert_exporter": "python",
   "pygments_lexer": "ipython3",
   "version": "3.9.16"
  }
 },
 "nbformat": 4,
 "nbformat_minor": 5
}
