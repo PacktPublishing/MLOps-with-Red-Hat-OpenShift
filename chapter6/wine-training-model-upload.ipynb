{
 "cells": [
  {
   "cell_type": "code",
   "execution_count": 9,
   "id": "4fc75c02-df00-4849-af96-9bce30761a93",
   "metadata": {},
   "outputs": [
    {
     "name": "stdout",
     "output_type": "stream",
     "text": [
      "Requirement already satisfied: python-pachyderm in /opt/app-root/lib/python3.9/site-packages (7.5.0)\n",
      "Requirement already satisfied: grpc-interceptor<0.14.0,>=0.13.0 in /opt/app-root/lib/python3.9/site-packages (from python-pachyderm) (0.13.2)\n",
      "Requirement already satisfied: grpcio>=1.54.2 in /opt/app-root/lib/python3.9/site-packages (from python-pachyderm) (1.56.0)\n",
      "Requirement already satisfied: grpcio-health-checking>=1.38.0 in /opt/app-root/lib/python3.9/site-packages (from python-pachyderm) (1.48.2)\n",
      "Requirement already satisfied: protobuf<4.0.0,>=3.17.1 in /opt/app-root/lib/python3.9/site-packages (from python-pachyderm) (3.20.3)\n",
      "Requirement already satisfied: python-dotenv>=1.0.0 in /opt/app-root/lib/python3.9/site-packages (from python-pachyderm) (1.0.0)\n",
      "\n",
      "\u001b[1m[\u001b[0m\u001b[34;49mnotice\u001b[0m\u001b[1;39;49m]\u001b[0m\u001b[39;49m A new release of pip is available: \u001b[0m\u001b[31;49m23.1.2\u001b[0m\u001b[39;49m -> \u001b[0m\u001b[32;49m23.2\u001b[0m\n",
      "\u001b[1m[\u001b[0m\u001b[34;49mnotice\u001b[0m\u001b[1;39;49m]\u001b[0m\u001b[39;49m To update, run: \u001b[0m\u001b[32;49mpip install --upgrade pip\u001b[0m\n",
      "Collecting skl2onnx\n",
      "  Downloading skl2onnx-1.14.1-py2.py3-none-any.whl (292 kB)\n",
      "\u001b[2K     \u001b[90m━━━━━━━━━━━━━━━━━━━━━━━━━━━━━━━━━━━━━━\u001b[0m \u001b[32m292.3/292.3 kB\u001b[0m \u001b[31m20.3 MB/s\u001b[0m eta \u001b[36m0:00:00\u001b[0m\n",
      "\u001b[?25hCollecting onnx>=1.2.1 (from skl2onnx)\n",
      "  Downloading onnx-1.14.0-cp39-cp39-manylinux_2_17_x86_64.manylinux2014_x86_64.whl (14.6 MB)\n",
      "\u001b[2K     \u001b[90m━━━━━━━━━━━━━━━━━━━━━━━━━━━━━━━━━━━━━━━━\u001b[0m \u001b[32m14.6/14.6 MB\u001b[0m \u001b[31m91.1 MB/s\u001b[0m eta \u001b[36m0:00:00\u001b[0m00:01\u001b[0m00:01\u001b[0m\n",
      "\u001b[?25hRequirement already satisfied: scikit-learn<1.3,>=0.19 in /opt/app-root/lib/python3.9/site-packages (from skl2onnx) (1.2.2)\n",
      "Collecting onnxconverter-common>=1.7.0 (from skl2onnx)\n",
      "  Downloading onnxconverter_common-1.13.0-py2.py3-none-any.whl (83 kB)\n",
      "\u001b[2K     \u001b[90m━━━━━━━━━━━━━━━━━━━━━━━━━━━━━━━━━━━━━━━\u001b[0m \u001b[32m83.8/83.8 kB\u001b[0m \u001b[31m280.9 MB/s\u001b[0m eta \u001b[36m0:00:00\u001b[0m\n",
      "\u001b[?25hRequirement already satisfied: numpy in /opt/app-root/lib/python3.9/site-packages (from onnx>=1.2.1->skl2onnx) (1.24.3)\n",
      "Requirement already satisfied: protobuf>=3.20.2 in /opt/app-root/lib/python3.9/site-packages (from onnx>=1.2.1->skl2onnx) (3.20.3)\n",
      "Requirement already satisfied: typing-extensions>=3.6.2.1 in /opt/app-root/lib/python3.9/site-packages (from onnx>=1.2.1->skl2onnx) (4.6.3)\n",
      "Requirement already satisfied: packaging in /opt/app-root/lib/python3.9/site-packages (from onnxconverter-common>=1.7.0->skl2onnx) (21.3)\n",
      "Requirement already satisfied: scipy>=1.3.2 in /opt/app-root/lib/python3.9/site-packages (from scikit-learn<1.3,>=0.19->skl2onnx) (1.10.1)\n",
      "Requirement already satisfied: joblib>=1.1.1 in /opt/app-root/lib/python3.9/site-packages (from scikit-learn<1.3,>=0.19->skl2onnx) (1.2.0)\n",
      "Requirement already satisfied: threadpoolctl>=2.0.0 in /opt/app-root/lib/python3.9/site-packages (from scikit-learn<1.3,>=0.19->skl2onnx) (3.1.0)\n",
      "Requirement already satisfied: pyparsing!=3.0.5,>=2.0.2 in /opt/app-root/lib/python3.9/site-packages (from packaging->onnxconverter-common>=1.7.0->skl2onnx) (3.0.9)\n",
      "Installing collected packages: onnx, onnxconverter-common, skl2onnx\n",
      "Successfully installed onnx-1.14.0 onnxconverter-common-1.13.0 skl2onnx-1.14.1\n",
      "\n",
      "\u001b[1m[\u001b[0m\u001b[34;49mnotice\u001b[0m\u001b[1;39;49m]\u001b[0m\u001b[39;49m A new release of pip is available: \u001b[0m\u001b[31;49m23.1.2\u001b[0m\u001b[39;49m -> \u001b[0m\u001b[32;49m23.2\u001b[0m\n",
      "\u001b[1m[\u001b[0m\u001b[34;49mnotice\u001b[0m\u001b[1;39;49m]\u001b[0m\u001b[39;49m To update, run: \u001b[0m\u001b[32;49mpip install --upgrade pip\u001b[0m\n"
     ]
    }
   ],
   "source": [
    "!pip install python-pachyderm\n",
    "!pip install skl2onnx"
   ]
  },
  {
   "cell_type": "code",
   "execution_count": 2,
   "id": "e0627df6-64a5-4ecb-88c2-80e58988c9ac",
   "metadata": {},
   "outputs": [],
   "source": [
    "commit_id = \"be82b14369c74ff7bbdf9866d6f701ee\""
   ]
  },
  {
   "cell_type": "code",
   "execution_count": 3,
   "id": "44a6a0c7-bade-4a62-ae70-74e2c384685d",
   "metadata": {},
   "outputs": [],
   "source": [
    "import python_pachyderm as pc\n",
    "client = pc.Client(host=\"pachd.pachyderm.svc.cluster.local\")\n"
   ]
  },
  {
   "cell_type": "code",
   "execution_count": 4,
   "id": "54d35f8c-8fdf-4196-9407-cf68f35493ca",
   "metadata": {},
   "outputs": [],
   "source": [
    "import pandas as pd\n",
    "wines = client.get_file((\"wines\", \"master\", commit_id), \"wine.csv\")\n",
    "wines_df = pd.read_csv(wines, delimiter=';')\n"
   ]
  },
  {
   "cell_type": "code",
   "execution_count": 5,
   "id": "410445b6-8d63-4d84-9526-b8ee57195c06",
   "metadata": {},
   "outputs": [
    {
     "name": "stdout",
     "output_type": "stream",
     "text": [
      "(3429, 12)\n"
     ]
    }
   ],
   "source": [
    "# Split data into training and test\n",
    "\n",
    "wine_train = wines_df.sample(frac=0.7)\n",
    "print(wine_train.shape)"
   ]
  },
  {
   "cell_type": "code",
   "execution_count": 6,
   "id": "3cb3b725-a117-4069-b8d1-4128aa9af5f7",
   "metadata": {},
   "outputs": [
    {
     "name": "stdout",
     "output_type": "stream",
     "text": [
      "(1088, 12)\n"
     ]
    }
   ],
   "source": [
    "wine_test = wines_df.loc[~wines_df.set_index(list(wines_df.columns)).index.isin(wine_train.set_index(list(wine_train.columns)).index)]\n",
    "print(wine_test.shape)"
   ]
  },
  {
   "cell_type": "code",
   "execution_count": 7,
   "id": "3624f4ec-7b9a-4d1d-8a01-baf61097c67d",
   "metadata": {},
   "outputs": [],
   "source": [
    "from sklearn.linear_model import LinearRegression\n",
    "features = ['volatile acidity', 'residual sugar', 'chlorides', 'total sulfur dioxide', 'sulphates', 'alcohol']\n",
    "wine_ln_reg = LinearRegression()\n",
    "wine_ln_reg = wine_ln_reg.fit(wine_train[features], wine_train['quality'])"
   ]
  },
  {
   "cell_type": "code",
   "execution_count": 11,
   "id": "f22ef61e-9224-4e62-9cef-6f0d6c9b951e",
   "metadata": {},
   "outputs": [],
   "source": [
    "import boto3, pickle, os\n",
    "from skl2onnx import convert_sklearn\n",
    "import onnx\n",
    "from skl2onnx.common.data_types import FloatTensorType\n",
    "\n",
    "# Save the model to a file\n",
    "with open('model.bin', 'wb') as f:\n",
    "    pickle.dump(wine_ln_reg, f)\n",
    "    \n",
    "# Set up the S3 client\n",
    "s3 = boto3.client('s3',\n",
    "                  endpoint_url='http://minio-ml-workshop.minio.svc.cluster.local:9000',\n",
    "                  aws_access_key_id='minio',\n",
    "                  aws_secret_access_key=os.getenv(\"MODEL_REGISTRY_PASSWORD\"))\n",
    "\n",
    "# Upload a file to the bucket\n",
    "bucket_name = 'wine-models'\n",
    "object_name = 'v1/model.onnx'\n",
    "file_path = 'model.onnx'\n",
    "\n",
    "\n",
    "# Convert the model to ONNX format\n",
    "initial_type = [('float_input', FloatTensorType([None, 2]))]\n",
    "onnx_model = convert_sklearn(wine_ln_reg, initial_types=initial_type)\n",
    "\n",
    "# Save the ONNX model to a file\n",
    "onnx.save(onnx_model, 'model.onnx')\n",
    "\n",
    "s3.upload_file(file_path, bucket_name, object_name)"
   ]
  },
  {
   "cell_type": "code",
   "execution_count": null,
   "id": "54234887-d169-4515-a93a-8a79b73c3b6b",
   "metadata": {},
   "outputs": [],
   "source": [
    "print(wine_ln_reg.coef_)\n",
    "print(wine_ln_reg.intercept_)"
   ]
  },
  {
   "cell_type": "code",
   "execution_count": null,
   "id": "7fabda11-1401-46d6-aae6-345d25f27ba3",
   "metadata": {},
   "outputs": [],
   "source": [
    "wine_ln_pred = wine_ln_reg.predict(wine_test[features])\n",
    "wine_ln_resid = wine_ln_pred - wine_test['quality']"
   ]
  },
  {
   "cell_type": "code",
   "execution_count": null,
   "id": "66bc0213-e19f-4338-bd3b-57ccf223c5b2",
   "metadata": {},
   "outputs": [],
   "source": [
    "import scipy.stats as stats\n",
    "import matplotlib.pyplot as plt\n",
    "plt.figure(figsize=(12,8))\n",
    "# Normal Q-Q plot\n",
    "stats.probplot(wine_ln_resid, dist=\"norm\", plot=plt)\n",
    "plt.xlabel(\"Theoretical Quantiles\",fontsize=15)\n",
    "plt.ylabel(\"Ordered Values\",fontsize=15)\n",
    "plt.title(\"Normal Q-Q Plot\",fontsize=20)"
   ]
  },
  {
   "cell_type": "code",
   "execution_count": null,
   "id": "c5707972-b512-4011-8b62-f559eb754997",
   "metadata": {},
   "outputs": [],
   "source": []
  }
 ],
 "metadata": {
  "kernelspec": {
   "display_name": "Python 3.9.16",
   "language": "python",
   "name": "python3"
  },
  "language_info": {
   "codemirror_mode": {
    "name": "ipython",
    "version": 3
   },
   "file_extension": ".py",
   "mimetype": "text/x-python",
   "name": "python",
   "nbconvert_exporter": "python",
   "pygments_lexer": "ipython3",
   "version": "3.9.16"
  }
 },
 "nbformat": 4,
 "nbformat_minor": 5
}
