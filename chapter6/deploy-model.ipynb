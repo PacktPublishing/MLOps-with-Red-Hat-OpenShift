{
 "cells": [
  {
   "cell_type": "code",
   "execution_count": 1,
   "id": "b818167b-eddf-4b4f-bc73-cf0d42db8eba",
   "metadata": {},
   "outputs": [
    {
     "name": "stdout",
     "output_type": "stream",
     "text": [
      "apiVersion: serving.kserve.io/v1beta1\n",
      "kind: InferenceService\n",
      "metadata:\n",
      "  name: versioned-wine-model\n",
      "  namespace: wines\n",
      "  labels:\n",
      "    name: model-23.08.05-195259\n",
      "    opendatahub.io/dashboard: 'true'\n",
      "  annotations:\n",
      "    openshift.io/display-name: model-23.08.05-195259\n",
      "    serving.kserve.io/deploymentMode: ModelMesh\n",
      "spec:\n",
      "  predictor:\n",
      "    model:\n",
      "      modelFormat:\n",
      "        name: sklearn\n",
      "        version: '0'\n",
      "      runtime: wine\n",
      "      storage:\n",
      "        key: aws-connection-wine-models\n",
      "        path: model-23.08.05-195259\n",
      "inferenceservice.serving.kserve.io/versioned-wine-model unchanged\n",
      "Model deployment completed. Version: 23.08.05-195259\n"
     ]
    }
   ],
   "source": [
    "import os, time, subprocess\n",
    "from jinja2 import Template\n",
    "\n",
    "variables = {}\n",
    "with open(\"vars.txt\") as myfile:\n",
    "    for line in myfile:\n",
    "        name, var = line.partition(\"=\")[::2]\n",
    "        variables[name.strip()] = str(var)\n",
    "\n",
    "template_data = {\"model_version\": variables['model_version']}\n",
    "applied_template = Template(open(\"inference-service.yaml\").read())\n",
    "\n",
    "rendered_template = applied_template.render(template_data)\n",
    "print('Rendered Template: \\r' + rendered_template)\n",
    "\n",
    "with open(\"manifest.yaml\", \"w\") as text_file:\n",
    "    text_file.write(rendered_template)\n",
    "\n",
    "!oc whoami\n",
    "!oc apply -f manifest.yaml\n",
    "\n",
    "print('Model deployment completed. Version: ' + variables['model_version'])"
   ]
  },
  {
   "cell_type": "code",
   "execution_count": null,
   "id": "a1f59dae-3cc8-465e-9cb6-865f4c547214",
   "metadata": {},
   "outputs": [],
   "source": []
  }
 ],
 "metadata": {
  "kernelspec": {
   "display_name": "Python 3.9.16",
   "language": "python",
   "name": "python3"
  },
  "language_info": {
   "codemirror_mode": {
    "name": "ipython",
    "version": 3
   },
   "file_extension": ".py",
   "mimetype": "text/x-python",
   "name": "python",
   "nbconvert_exporter": "python",
   "pygments_lexer": "ipython3",
   "version": "3.9.16"
  }
 },
 "nbformat": 4,
 "nbformat_minor": 5
}
