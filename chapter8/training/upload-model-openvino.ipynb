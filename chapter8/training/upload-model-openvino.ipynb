{
 "cells": [
  {
   "cell_type": "code",
   "execution_count": 1,
   "id": "f2479118-5271-422d-abba-13ffa6b89a66",
   "metadata": {},
   "outputs": [
    {
     "name": "stdout",
     "output_type": "stream",
     "text": [
      "Requirement already satisfied: boto3 in /opt/app-root/lib/python3.9/site-packages (1.26.165)\n",
      "Requirement already satisfied: botocore<1.30.0,>=1.29.165 in /opt/app-root/lib/python3.9/site-packages (from boto3) (1.29.165)\n",
      "Requirement already satisfied: s3transfer<0.7.0,>=0.6.0 in /opt/app-root/lib/python3.9/site-packages (from boto3) (0.6.2)\n",
      "Requirement already satisfied: jmespath<2.0.0,>=0.7.1 in /opt/app-root/lib/python3.9/site-packages (from boto3) (1.0.1)\n",
      "Requirement already satisfied: python-dateutil<3.0.0,>=2.1 in /opt/app-root/lib/python3.9/site-packages (from botocore<1.30.0,>=1.29.165->boto3) (2.8.2)\n",
      "Requirement already satisfied: urllib3<1.27,>=1.25.4 in /opt/app-root/lib/python3.9/site-packages (from botocore<1.30.0,>=1.29.165->boto3) (1.26.16)\n",
      "Requirement already satisfied: six>=1.5 in /opt/app-root/lib/python3.9/site-packages (from python-dateutil<3.0.0,>=2.1->botocore<1.30.0,>=1.29.165->boto3) (1.16.0)\n",
      "\n",
      "\u001b[1m[\u001b[0m\u001b[34;49mnotice\u001b[0m\u001b[1;39;49m]\u001b[0m\u001b[39;49m A new release of pip available: \u001b[0m\u001b[31;49m22.2.2\u001b[0m\u001b[39;49m -> \u001b[0m\u001b[32;49m23.3.1\u001b[0m\n",
      "\u001b[1m[\u001b[0m\u001b[34;49mnotice\u001b[0m\u001b[1;39;49m]\u001b[0m\u001b[39;49m To update, run: \u001b[0m\u001b[32;49mpip install --upgrade pip\u001b[0m\n",
      "bucketname = face-detection\n"
     ]
    }
   ],
   "source": [
    "!pip install boto3\n",
    "\n",
    "import boto3, os\n",
    "from datetime import datetime\n",
    "\n",
    "# Set up the S3 client\n",
    "s3 = boto3.client('s3',\n",
    "                  endpoint_url=os.getenv(\"AWS_S3_ENDPOINT\"),\n",
    "                  aws_access_key_id=os.getenv(\"AWS_ACCESS_KEY_ID\"),\n",
    "                  aws_secret_access_key=os.getenv(\"AWS_SECRET_ACCESS_KEY\"))\n",
    "\n",
    "\n",
    "# Function to upload a folder to S3\n",
    "def upload_folder_to_s3(local_folder, bucket_name, object_prefix):\n",
    "    for root, dirs, files in os.walk(local_folder):\n",
    "        for file in files:\n",
    "            local_path = os.path.join(root, file)\n",
    "            s3_path = os.path.join(object_prefix, os.path.relpath(local_path, local_folder))\n",
    "            s3.upload_file(local_path, bucket_name, s3_path)\n",
    "\n",
    "\n",
    "# Upload a file to the bucket\n",
    "model_version = datetime.now().strftime(\"%y.%m.%d-%H%M%S\")\n",
    "bucket_name = 'face-detection'\n",
    "object_prefix = 'models/model-' + model_version\n",
    "folder_path = 'openvino'\n",
    "\n",
    "print(f\"bucketname = {bucket_name}\")\n",
    "\n",
    "# Upload the folder to S3\n",
    "upload_folder_to_s3(folder_path, bucket_name, object_prefix)\n",
    "\n",
    "# store the model version in a file temporarily for the next pipeline job\n",
    "with open(\"vars.txt\", \"w\") as text_file:\n",
    "    text_file.write('model_version='+model_version)"
   ]
  },
  {
   "cell_type": "code",
   "execution_count": null,
   "id": "90a6b8ef-655f-48ec-b5a0-5d7ede07ac81",
   "metadata": {},
   "outputs": [],
   "source": []
  }
 ],
 "metadata": {
  "kernelspec": {
   "display_name": "Python 3.9",
   "language": "python",
   "name": "python3"
  },
  "language_info": {
   "codemirror_mode": {
    "name": "ipython",
    "version": 3
   },
   "file_extension": ".py",
   "mimetype": "text/x-python",
   "name": "python",
   "nbconvert_exporter": "python",
   "pygments_lexer": "ipython3",
   "version": "3.9.16"
  }
 },
 "nbformat": 4,
 "nbformat_minor": 5
}
